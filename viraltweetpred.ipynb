{
 "cells": [
  {
   "cell_type": "code",
   "execution_count": null,
   "id": "3ecf1d25",
   "metadata": {},
   "outputs": [],
   "source": [
    "import pandas as pd\n",
    "import numpy as np\n",
    "from sklearn.model_selection import train_test_split\n",
    "from sklearn.ensemble import RandomForestClassifier\n",
    "from sklearn.feature_extraction.text import TfidfVectorizer\n",
    "from sklearn.metrics import classification_report\n",
    "import seaborn as sns\n",
    "import matplotlib.pyplot as plt\n",
    "import nltk\n",
    "from imblearn.over_sampling import SMOTE\n",
    "import sklearn as sk\n",
    "nltk.download('stopwords')\n",
    "from nltk.corpus import stopwords\n",
    "stop_words = set(stopwords.words('english'))\n",
    "\n",
    "\n",
    "df = pd.read_csv('tweets_cleaned_no_outliers.csv')\n",
    "df.head(5)\n"
   ]
  },
  {
   "cell_type": "code",
   "execution_count": null,
   "id": "d4a6a760",
   "metadata": {},
   "outputs": [],
   "source": [
    "print (\"pandas \" ,pd.__version__)\n",
    "print (\"pandas \" ,np.__version__)\n",
    "print(\"sklearn\", sk.__version__)"
   ]
  },
  {
   "cell_type": "code",
   "execution_count": null,
   "id": "d37ff087",
   "metadata": {},
   "outputs": [],
   "source": [
    "df['viral'] = df['Retweets'].apply(lambda x: 1 if x >= 50 else 0)"
   ]
  },
  {
   "cell_type": "code",
   "execution_count": null,
   "id": "cdb6bec6",
   "metadata": {},
   "outputs": [],
   "source": [
    "category_encoded = pd.get_dummies(df['Category'], prefix='cat')\n",
    "day_dummies = pd.get_dummies(df['DayOfWeek'], prefix='day')\n",
    "hour_dummies = pd.get_dummies(df['Month'], prefix='month')\n",
    "df['time'] = pd.to_datetime(df['time'], format='%H:%M:%S').dt.time\n",
    "\n",
    "# Extract hour, minute, second\n",
    "df['hour'] = df['time'].apply(lambda t: t.hour)\n",
    "df['minute'] = df['time'].apply(lambda t: t.minute)\n",
    "df['second'] = df['time'].apply(lambda t: t.second)\n",
    "time_features = df[['hour', 'minute', 'second']].to_numpy()\n"
   ]
  },
  {
   "cell_type": "code",
   "execution_count": null,
   "id": "1bb7c14b",
   "metadata": {},
   "outputs": [],
   "source": [
    "vectorizer = TfidfVectorizer(max_features=1000)\n",
    "X_text = vectorizer.fit_transform(df['Text_cleaned']).toarray()\n",
    "\n",
    "# Add numeric metadata (followers, time, etc.)\n",
    "metadata_features = df[['Followers','Likes']]  # Add relevant columns\n",
    "X_meta = metadata_features.fillna(0).values\n",
    "\n",
    "\n",
    "# Combine all features\n",
    "X = np.hstack((X_text, X_meta, category_encoded,day_dummies,hour_dummies,time_features,))\n",
    "y = df['viral']\n"
   ]
  },
  {
   "cell_type": "code",
   "execution_count": null,
   "id": "f92c870d",
   "metadata": {},
   "outputs": [],
   "source": [
    "X_train, X_test, y_train, y_test = train_test_split(X, y, test_size=0.2, random_state=42)\n",
    "smote = SMOTE(random_state=42)\n",
    "X_train_res, y_train_res = smote.fit_resample(X_train, y_train)\n",
    "\n",
    "\n",
    "clf = RandomForestClassifier(class_weight='balanced',n_estimators=100, random_state=42)\n",
    "clf.fit(X_train_res, y_train_res)\n",
    "\n",
    "y_pred = clf.predict(X_test)\n",
    "print(classification_report(y_test, y_pred))\n"
   ]
  },
  {
   "cell_type": "code",
   "execution_count": null,
   "id": "21c5d872",
   "metadata": {},
   "outputs": [],
   "source": [
    "\n",
    "\n",
    "importances = clf.feature_importances_\n",
    "indices = np.argsort(importances)[-10:]\n",
    "plt.barh(range(len(indices)), importances[indices])\n",
    "plt.xlabel(\"Importance\")\n",
    "plt.title(\"Top 10 Features\")\n",
    "plt.show()\n"
   ]
  },
  {
   "cell_type": "code",
   "execution_count": null,
   "id": "da20e4cc",
   "metadata": {},
   "outputs": [],
   "source": [
    "from imblearn.pipeline import Pipeline\n",
    "from sklearn.model_selection import cross_validate\n",
    "from sklearn.model_selection import StratifiedKFold\n",
    "\n",
    "skf = StratifiedKFold(n_splits=5, shuffle=True, random_state=42)\n",
    "scoring = ['accuracy', 'precision', 'recall', 'f1']\n",
    "\n",
    "pipeline = Pipeline([\n",
    "    ('smote', SMOTE(random_state=42)),\n",
    "    ('clf', RandomForestClassifier(random_state=42))\n",
    "])\n",
    "\n",
    "cv_results = cross_validate(pipeline, X, y, cv=skf, scoring=scoring)\n",
    "\n",
    "for metric in scoring:\n",
    "    print(f\"{metric}: {cv_results[f'test_{metric}'].mean():.4f}\")\n"
   ]
  },
  {
   "cell_type": "code",
   "execution_count": null,
   "id": "b9d98d29",
   "metadata": {},
   "outputs": [],
   "source": [
    "from sklearn.metrics import confusion_matrix, ConfusionMatrixDisplay\n",
    "\n",
    "\n",
    "y_pred = clf.predict(X_test)\n",
    "cm = confusion_matrix(y_test, y_pred)\n",
    "disp = ConfusionMatrixDisplay(confusion_matrix=cm)\n",
    "disp.plot()\n",
    "plt.show()"
   ]
  },
  {
   "cell_type": "code",
   "execution_count": null,
   "id": "88f01717",
   "metadata": {},
   "outputs": [],
   "source": [
    "from sklearn.metrics import accuracy_score\n",
    "\n",
    "accuracy = accuracy_score(y_test, y_pred)\n",
    "print(\"Accuracy:\", accuracy)\n"
   ]
  },
  {
   "cell_type": "code",
   "execution_count": null,
   "id": "9403cab8",
   "metadata": {},
   "outputs": [],
   "source": [
    "print(df['viral'].value_counts())\n"
   ]
  },
  {
   "cell_type": "code",
   "execution_count": null,
   "id": "2b893fea",
   "metadata": {},
   "outputs": [],
   "source": [
    "import pickle\n",
    "with open ('viral.pkl','wb') as file:\n",
    "    pickle.dump (clf, file)\n"
   ]
  },
  {
   "cell_type": "code",
   "execution_count": null,
   "id": "ad66eef7",
   "metadata": {},
   "outputs": [],
   "source": [
    "import pickle\n",
    "with open ('vector.pkl','wb') as file:\n",
    "    pickle.dump (vectorizer, file)"
   ]
  },
  {
   "cell_type": "code",
   "execution_count": null,
   "id": "ca4ec1e1",
   "metadata": {},
   "outputs": [],
   "source": [
    "import pickle\n",
    "with open ('category.pkl','wb') as file:\n",
    "    pickle.dump (category_encoded, file)\n",
    "with open ('days.pkl','wb') as file:\n",
    "    pickle.dump (day_dummies, file)\n",
    "with open ('month.pkl','wb') as file:\n",
    "    pickle.dump (hour_dummies, file)\n",
    "with open ('time.pkl','wb') as file:\n",
    "    pickle.dump (time_features, file)"
   ]
  }
 ],
 "metadata": {
  "kernelspec": {
   "display_name": "Python 3",
   "language": "python",
   "name": "python3"
  },
  "language_info": {
   "codemirror_mode": {
    "name": "ipython",
    "version": 3
   },
   "file_extension": ".py",
   "mimetype": "text/x-python",
   "name": "python",
   "nbconvert_exporter": "python",
   "pygments_lexer": "ipython3",
   "version": "3.11.5"
  }
 },
 "nbformat": 4,
 "nbformat_minor": 5
}
